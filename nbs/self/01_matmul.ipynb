{
 "cells": [
  {
   "cell_type": "code",
   "execution_count": 1,
   "metadata": {},
   "outputs": [],
   "source": [
    "%load_ext autoreload\n",
    "%autoreload 2\n",
    "\n",
    "%matplotlib inline"
   ]
  },
  {
   "cell_type": "code",
   "execution_count": 2,
   "metadata": {},
   "outputs": [],
   "source": [
    "TEST = 'tes'\n",
    "import operator\n",
    "\n",
    "def test(a,b,cmp,cname=None):\n",
    "    if cname is None: cname=cmp.__name__\n",
    "    assert cmp(a,b),f\"{cname}:\\n{a}\\n{b}\"\n",
    "\n",
    "def test_eq(a,b): test(a,b,operator.eq,'==')"
   ]
  },
  {
   "cell_type": "code",
   "execution_count": 3,
   "metadata": {},
   "outputs": [],
   "source": [
    "#test_eq(TEST,'test')"
   ]
  },
  {
   "cell_type": "code",
   "execution_count": 4,
   "metadata": {},
   "outputs": [],
   "source": [
    "from pathlib import Path\n",
    "from IPython.core.debugger import set_trace\n",
    "from fastai import datasets\n",
    "import pickle, gzip, math, torch, matplotlib as mpl\n",
    "import matplotlib.pyplot as plt\n",
    "from torch import tensor\n",
    "MNIST_URL='http://deeplearning.net/data/mnist/mnist.pkl'"
   ]
  },
  {
   "cell_type": "code",
   "execution_count": 5,
   "metadata": {},
   "outputs": [
    {
     "data": {
      "text/plain": [
       "WindowsPath('C:/Users/bitte/.fastai/data/mnist.pkl.gz')"
      ]
     },
     "execution_count": 5,
     "metadata": {},
     "output_type": "execute_result"
    }
   ],
   "source": [
    "path = datasets.download_data(MNIST_URL, ext='.gz'); path"
   ]
  },
  {
   "cell_type": "code",
   "execution_count": 6,
   "metadata": {},
   "outputs": [],
   "source": [
    "# https://docs.python.org/3/library/pickle.html#pickle.load\n",
    "with gzip.open(path, 'rb') as file:\n",
    "    ((x_train, y_train), (x_valid, y_valid), _) = pickle.load(file, encoding='latin-1')"
   ]
  },
  {
   "cell_type": "code",
   "execution_count": 7,
   "metadata": {},
   "outputs": [
    {
     "name": "stdout",
     "output_type": "stream",
     "text": [
      "[6, 7, 8, 9]\n"
     ]
    }
   ],
   "source": [
    "# map?? # https://www.geeksforgeeks.org/python-map-function/\n",
    "# numbers.forEach(number => addition(number))\n",
    "def addition(n): \n",
    "    return n + 5\n",
    "numbers = (1, 2, 3, 4) \n",
    "result = map(addition, numbers) \n",
    "print(list(result))"
   ]
  },
  {
   "cell_type": "code",
   "execution_count": 8,
   "metadata": {},
   "outputs": [
    {
     "data": {
      "text/plain": [
       "(tensor([[0., 0., 0.,  ..., 0., 0., 0.],\n",
       "         [0., 0., 0.,  ..., 0., 0., 0.],\n",
       "         [0., 0., 0.,  ..., 0., 0., 0.],\n",
       "         ...,\n",
       "         [0., 0., 0.,  ..., 0., 0., 0.],\n",
       "         [0., 0., 0.,  ..., 0., 0., 0.],\n",
       "         [0., 0., 0.,  ..., 0., 0., 0.]]),\n",
       " torch.Size([50000, 784]),\n",
       " tensor([5, 0, 4,  ..., 8, 4, 8]),\n",
       " torch.Size([50000]),\n",
       " tensor(0),\n",
       " tensor(9))"
      ]
     },
     "execution_count": 8,
     "metadata": {},
     "output_type": "execute_result"
    }
   ],
   "source": [
    "x_train,y_train,x_valid,y_valid = map(tensor, (x_train,y_train,x_valid,y_valid))\n",
    "n,c = x_train.shape\n",
    "x_train, x_train.shape, y_train, y_train.shape, y_train.min(), y_train.max()"
   ]
  },
  {
   "cell_type": "code",
   "execution_count": 9,
   "metadata": {},
   "outputs": [
    {
     "data": {
      "text/plain": [
       "(50000, 50000, True, tensor(0), tensor(9))"
      ]
     },
     "execution_count": 9,
     "metadata": {},
     "output_type": "execute_result"
    }
   ],
   "source": [
    "n, y_train.shape[0],n==y_train.shape[0], y_train.min(), y_train.max()"
   ]
  },
  {
   "cell_type": "code",
   "execution_count": 10,
   "metadata": {},
   "outputs": [],
   "source": [
    "mpl.rcParams['image.cmap'] = 'gray' # https://matplotlib.org/3.1.0/tutorials/colors/colormaps.html"
   ]
  },
  {
   "cell_type": "code",
   "execution_count": 11,
   "metadata": {},
   "outputs": [],
   "source": [
    "img = x_train[0]"
   ]
  },
  {
   "cell_type": "code",
   "execution_count": 12,
   "metadata": {},
   "outputs": [
    {
     "data": {
      "text/plain": [
       "<matplotlib.image.AxesImage at 0x29232010b08>"
      ]
     },
     "execution_count": 12,
     "metadata": {},
     "output_type": "execute_result"
    },
    {
     "data": {
      "image/png": "[encoded data removed]",
      "text/plain": [
       "<Figure size 432x288 with 1 Axes>"
      ]
     },
     "metadata": {
      "needs_background": "light"
     },
     "output_type": "display_data"
    }
   ],
   "source": [
    "plt.imshow(img.view((28,28)))"
   ]
  },
  {
   "cell_type": "code",
   "execution_count": 13,
   "metadata": {},
   "outputs": [],
   "source": [
    "weights = torch.randn(784,10)\n",
    "bias = torch.zeros(10)"
   ]
  },
  {
   "cell_type": "code",
   "execution_count": 14,
   "metadata": {},
   "outputs": [],
   "source": [
    "def matmul(a,b):\n",
    "    ar,ac = a.shape\n",
    "    br,bc = b.shape\n",
    "    assert ac == br\n",
    "#     print(ar)\n",
    "#     print(ac)\n",
    "#     print(br)\n",
    "#     print(bc)\n",
    "    c = torch.zeros(ar,bc)\n",
    "    for i in range(ar):\n",
    "        for j in range(ac):\n",
    "            for k in range(bc):\n",
    "#                 print(a[i,j])\n",
    "#                 print(b[j,k])\n",
    "#                 print(a[i,j] * b[j,k])\n",
    "                c[i,k] += a[i,j] * b[j,k] # forgot the + in +=, was getting only [[12]]\n",
    "    return c"
   ]
  },
  {
   "cell_type": "code",
   "execution_count": 15,
   "metadata": {},
   "outputs": [
    {
     "data": {
      "text/plain": [
       "(torch.Size([1, 2]), torch.Size([2, 1]))"
      ]
     },
     "execution_count": 15,
     "metadata": {},
     "output_type": "execute_result"
    }
   ],
   "source": [
    "ccc,ddd = tensor([[5,3]]), tensor([[2],[4]])\n",
    "ccc,ddd\n",
    "# matmul(tensor([5]),tensor([2]))\n",
    "ccc.shape,ddd.shape"
   ]
  },
  {
   "cell_type": "code",
   "execution_count": 16,
   "metadata": {},
   "outputs": [
    {
     "data": {
      "text/plain": [
       "tensor([[22.]])"
      ]
     },
     "execution_count": 16,
     "metadata": {},
     "output_type": "execute_result"
    }
   ],
   "source": [
    "matmul(ccc,ddd)"
   ]
  },
  {
   "cell_type": "code",
   "execution_count": 17,
   "metadata": {},
   "outputs": [],
   "source": [
    "m1 = x_valid[:5]\n",
    "m2 = weights"
   ]
  },
  {
   "cell_type": "code",
   "execution_count": 18,
   "metadata": {},
   "outputs": [
    {
     "data": {
      "text/plain": [
       "(torch.Size([5, 784]), torch.Size([784, 10]))"
      ]
     },
     "execution_count": 18,
     "metadata": {},
     "output_type": "execute_result"
    }
   ],
   "source": [
    "m1.shape, m2.shape"
   ]
  },
  {
   "cell_type": "code",
   "execution_count": 19,
   "metadata": {},
   "outputs": [
    {
     "name": "stdout",
     "output_type": "stream",
     "text": [
      "Wall time: 852 ms\n"
     ]
    },
    {
     "data": {
      "text/plain": [
       "torch.Size([5, 10])"
      ]
     },
     "execution_count": 19,
     "metadata": {},
     "output_type": "execute_result"
    }
   ],
   "source": [
    "%time t1=matmul(m1,m2)\n",
    "t1.shape"
   ]
  },
  {
   "cell_type": "code",
   "execution_count": 20,
   "metadata": {},
   "outputs": [
    {
     "name": "stdout",
     "output_type": "stream",
     "text": [
      "tensor([10.,  6., -4.]) tensor([2., 8., 7.])\n",
      "tensor([12., 14.,  3.])\n",
      "tensor(0.6667)\n"
     ]
    }
   ],
   "source": [
    "#Element-wise operations\n",
    "a = tensor([10., 6, -4])\n",
    "b = tensor([2., 8 ,7])\n",
    "print(a,b)\n",
    "print(a+b)\n",
    "print((a<b).float().mean()) # [f t t] -> [0 1 1] -> 0.6667"
   ]
  },
  {
   "cell_type": "code",
   "execution_count": 21,
   "metadata": {},
   "outputs": [
    {
     "data": {
      "text/plain": [
       "tensor([[1., 2., 3.],\n",
       "        [4., 5., 6.],\n",
       "        [7., 8., 9.]])"
      ]
     },
     "execution_count": 21,
     "metadata": {},
     "output_type": "execute_result"
    }
   ],
   "source": [
    "m=tensor([[1., 2., 3.],[4.,5.,6.],[7.,8.,9.]]); m"
   ]
  },
  {
   "cell_type": "code",
   "execution_count": 23,
   "metadata": {},
   "outputs": [
    {
     "data": {
      "text/plain": [
       "(3, 3)"
      ]
     },
     "execution_count": 23,
     "metadata": {},
     "output_type": "execute_result"
    }
   ],
   "source": [
    "ri,cj=m.shape;ri,cj"
   ]
  },
  {
   "cell_type": "code",
   "execution_count": 24,
   "metadata": {},
   "outputs": [],
   "source": [
    "def sqrt_long(n):\n",
    "    sum=0\n",
    "    for i in range(r):\n",
    "        for j in range(c):\n",
    "            sum += n[i,j]**2\n",
    "    return math.sqrt(sum)"
   ]
  },
  {
   "cell_type": "code",
   "execution_count": 25,
   "metadata": {},
   "outputs": [
    {
     "data": {
      "text/plain": [
       "16.881943016134134"
      ]
     },
     "execution_count": 25,
     "metadata": {},
     "output_type": "execute_result"
    }
   ],
   "source": [
    "sqrt_long(m)"
   ]
  },
  {
   "cell_type": "code",
   "execution_count": 26,
   "metadata": {},
   "outputs": [],
   "source": [
    "def frobeniusNorm(n): return (n*n).sum().float().sqrt() # short version of sqrt_long, use float() if n[] vales are integers"
   ]
  },
  {
   "cell_type": "code",
   "execution_count": 27,
   "metadata": {},
   "outputs": [
    {
     "data": {
      "text/plain": [
       "tensor(16.8819)"
      ]
     },
     "execution_count": 27,
     "metadata": {},
     "output_type": "execute_result"
    }
   ],
   "source": [
    "frobeniusNorm(m)"
   ]
  },
  {
   "cell_type": "code",
   "execution_count": 28,
   "metadata": {},
   "outputs": [],
   "source": [
    "def matmul(a,b):\n",
    "    ar,ac = a.shape\n",
    "    br,bc = b.shape\n",
    "    assert ac == br\n",
    "#     print(ar,ac)\n",
    "#     print(br,bc)\n",
    "#     print(ar,bc)\n",
    "    c = torch.zeros(ar,bc)\n",
    "    for i in range(ar):\n",
    "        for k in range(bc):\n",
    "#             print(a[i])\n",
    "#             print(b[:,k])\n",
    "#             print(a[i] * b[:,k])\n",
    "            c[i] = (a[i] * b[:,k]).sum()\n",
    "    return c"
   ]
  },
  {
   "cell_type": "code",
   "execution_count": 29,
   "metadata": {},
   "outputs": [
    {
     "data": {
      "text/plain": [
       "tensor([[22.]])"
      ]
     },
     "execution_count": 29,
     "metadata": {},
     "output_type": "execute_result"
    }
   ],
   "source": [
    "matmul(ccc,ddd)"
   ]
  },
  {
   "cell_type": "code",
   "execution_count": 30,
   "metadata": {},
   "outputs": [
    {
     "name": "stdout",
     "output_type": "stream",
     "text": [
      "1.13 ms ± 36 µs per loop (mean ± std. dev. of 7 runs, 10 loops each)\n"
     ]
    }
   ],
   "source": [
    "%timeit -n 10 _=matmul(m1, m2)"
   ]
  },
  {
   "cell_type": "code",
   "execution_count": 31,
   "metadata": {},
   "outputs": [
    {
     "data": {
      "text/plain": [
       "tensor([10.,  6., -4.])"
      ]
     },
     "execution_count": 31,
     "metadata": {},
     "output_type": "execute_result"
    }
   ],
   "source": [
    "# Broadcasting\n",
    "a"
   ]
  },
  {
   "cell_type": "code",
   "execution_count": 32,
   "metadata": {},
   "outputs": [],
   "source": [
    "# a > 0 # tensor([ True,  True, False])\n",
    "# (a > 0).float() # tensor([1., 1., 0.])\n",
    "# (a > 0).float().mean() # tensor(0.6667)\n",
    "# a > tensor([0., 0., 0.]) # bbroadcasts 0 to same shape as a: a > tensor([0., 0., 0.])"
   ]
  },
  {
   "cell_type": "code",
   "execution_count": 33,
   "metadata": {},
   "outputs": [
    {
     "name": "stdout",
     "output_type": "stream",
     "text": [
      "tensor([11.,  7., -3.])\n",
      "tensor([[1., 2., 3.],\n",
      "        [4., 5., 6.],\n",
      "        [7., 8., 9.]])\n",
      "tensor([[ 2.,  4.,  6.],\n",
      "        [ 8., 10., 12.],\n",
      "        [14., 16., 18.]])\n"
     ]
    }
   ],
   "source": [
    "print(a + 1)\n",
    "print(m)\n",
    "print(2*m)"
   ]
  },
  {
   "cell_type": "code",
   "execution_count": 34,
   "metadata": {},
   "outputs": [
    {
     "name": "stdout",
     "output_type": "stream",
     "text": [
      "tensor([10., 20., 30.])\n",
      "tensor([[1., 2., 3.],\n",
      "        [4., 5., 6.],\n",
      "        [7., 8., 9.]])\n"
     ]
    }
   ],
   "source": [
    "c = tensor([10., 20., 30.])\n",
    "print(c)\n",
    "print(m)"
   ]
  },
  {
   "cell_type": "code",
   "execution_count": 35,
   "metadata": {},
   "outputs": [
    {
     "data": {
      "text/plain": [
       "(torch.Size([3, 3]), torch.Size([3]))"
      ]
     },
     "execution_count": 35,
     "metadata": {},
     "output_type": "execute_result"
    }
   ],
   "source": [
    "m.shape, c.shape"
   ]
  },
  {
   "cell_type": "code",
   "execution_count": 36,
   "metadata": {},
   "outputs": [
    {
     "name": "stdout",
     "output_type": "stream",
     "text": [
      "tensor([[11., 22., 33.],\n",
      "        [14., 25., 36.],\n",
      "        [17., 28., 39.]])\n",
      "tensor([[11., 22., 33.],\n",
      "        [14., 25., 36.],\n",
      "        [17., 28., 39.]])\n"
     ]
    }
   ],
   "source": [
    "print(m+c)\n",
    "print(c+m)"
   ]
  },
  {
   "cell_type": "code",
   "execution_count": 37,
   "metadata": {},
   "outputs": [
    {
     "name": "stdout",
     "output_type": "stream",
     "text": [
      "tensor([[10., 20., 30.],\n",
      "        [10., 20., 30.],\n",
      "        [10., 20., 30.]])\n",
      "tensor([[11., 22., 33.],\n",
      "        [14., 25., 36.],\n",
      "        [17., 28., 39.]])\n"
     ]
    }
   ],
   "source": [
    "# print(c)\n",
    "# print(type(c)) # prev defined c in r,c=m.shape, c was an int instead of tensor\n",
    "t = c.expand_as(m)\n",
    "print(t)\n",
    "print(m+t)"
   ]
  },
  {
   "cell_type": "code",
   "execution_count": 38,
   "metadata": {},
   "outputs": [
    {
     "name": "stdout",
     "output_type": "stream",
     "text": [
      " 10.0\n",
      " 20.0\n",
      " 30.0\n",
      "[torch.FloatStorage of size 3]\n",
      "False\n",
      "3\n"
     ]
    }
   ],
   "source": [
    "print(t.storage())\n",
    "print(t.storage().is_sparse)\n",
    "print(t.storage().size())"
   ]
  },
  {
   "cell_type": "code",
   "execution_count": 39,
   "metadata": {},
   "outputs": [
    {
     "data": {
      "text/plain": [
       "((0, 1), torch.Size([3, 3]))"
      ]
     },
     "execution_count": 39,
     "metadata": {},
     "output_type": "execute_result"
    }
   ],
   "source": [
    "t.stride(), t.shape"
   ]
  },
  {
   "cell_type": "code",
   "execution_count": 40,
   "metadata": {},
   "outputs": [
    {
     "name": "stdout",
     "output_type": "stream",
     "text": [
      "tensor([10., 20., 30.])\n",
      "tensor([[10.],\n",
      "        [20.],\n",
      "        [30.]])\n",
      "tensor([[10., 20., 30.]])\n",
      "tensor([[10.],\n",
      "        [20.],\n",
      "        [30.]])\n",
      "tensor([[10., 20., 30.]])\n",
      "tensor([[True, True, True]])\n",
      "tensor([[True],\n",
      "        [True],\n",
      "        [True]])\n"
     ]
    }
   ],
   "source": [
    "# None and unsqueeze\n",
    "print(c)\n",
    "print(c.unsqueeze(-1))\n",
    "print(c.unsqueeze(0))\n",
    "print(c.unsqueeze(1)) # -1 gives same as 1\n",
    "# print(c.unsqueeze(2)) # IndexError: Dimension out of range (expected to be in range of [-2, 1], but got 2)\n",
    "print(c.unsqueeze(-2)) # -2 gives same as 0\n",
    "print(c.unsqueeze(0) == c.unsqueeze(-2)) # I expected just a single true\n",
    "print(c.unsqueeze(1) == c.unsqueeze(-1)) # instead of true, true, true"
   ]
  },
  {
   "cell_type": "code",
   "execution_count": 41,
   "metadata": {},
   "outputs": [
    {
     "name": "stdout",
     "output_type": "stream",
     "text": [
      "torch.Size([3])\n",
      "torch.Size([1, 3])\n",
      "torch.Size([1, 3])\n",
      "torch.Size([1, 3])\n",
      "torch.Size([3, 1])\n",
      "torch.Size([3, 1])\n",
      "torch.Size([3, 1])\n"
     ]
    }
   ],
   "source": [
    "print(c.shape)\n",
    "print(c.unsqueeze(0).shape)\n",
    "print(c.unsqueeze(-2).shape)\n",
    "print(c[None].shape)\n",
    "print(c.unsqueeze(1).shape)\n",
    "print(c.unsqueeze(-1).shape)\n",
    "print(c[:,None].shape)"
   ]
  },
  {
   "cell_type": "code",
   "execution_count": 42,
   "metadata": {},
   "outputs": [
    {
     "name": "stdout",
     "output_type": "stream",
     "text": [
      "torch.Size([1, 3])\n",
      "torch.Size([1, 3])\n",
      "torch.Size([3, 1])\n",
      "torch.Size([3, 1])\n"
     ]
    }
   ],
   "source": [
    "# Trailing : can be omitted, and ... is shorthand for 'all preceeding dimensions'\n",
    "print(c[None].shape)\n",
    "print(c[None,:].shape)\n",
    "print(c[:,None].shape)\n",
    "print(c[...,None].shape)"
   ]
  },
  {
   "cell_type": "code",
   "execution_count": 43,
   "metadata": {},
   "outputs": [
    {
     "name": "stdout",
     "output_type": "stream",
     "text": [
      "tensor([[10., 20., 30.],\n",
      "        [10., 20., 30.],\n",
      "        [10., 20., 30.]])\n",
      "tensor([[10., 10., 10.],\n",
      "        [20., 20., 20.],\n",
      "        [30., 30., 30.]])\n"
     ]
    }
   ],
   "source": [
    "print(c[None].expand_as(m)) # -->\n",
    "print(c[:,None].expand_as(m)) # vvv"
   ]
  },
  {
   "cell_type": "code",
   "execution_count": 103,
   "metadata": {},
   "outputs": [],
   "source": [
    "def matmulMe(a,b): #I had this here initially, ~4x slower than Jeremy\n",
    "    ar,ac = a.shape\n",
    "    br,bc = b.shape\n",
    "    assert ac == br\n",
    "#     print(ar,ac)\n",
    "#     print(br,bc)\n",
    "#     print(ar,bc)\n",
    "    c = torch.zeros(ar,bc)\n",
    "    for i in range(ar):\n",
    "        for k in range(bc):\n",
    "#             print(a[i])\n",
    "#             print(a[i][None])\n",
    "#             print(b[:,k])\n",
    "#             print(b[k])\n",
    "#             print(a[i] * b[:,k])\n",
    "            c[i] = (a[i] * b[:,k]).sum() # two for loops\n",
    "    return c"
   ]
  },
  {
   "cell_type": "code",
   "execution_count": 100,
   "metadata": {},
   "outputs": [
    {
     "name": "stdout",
     "output_type": "stream",
     "text": [
      "1.1 ms ± 20.6 µs per loop (mean ± std. dev. of 7 runs, 10 loops each)\n"
     ]
    },
    {
     "data": {
      "text/plain": [
       "tensor([[ 3.0766,  3.0766,  3.0766,  3.0766,  3.0766,  3.0766,  3.0766,  3.0766,\n",
       "          3.0766,  3.0766],\n",
       "        [ 3.8681,  3.8681,  3.8681,  3.8681,  3.8681,  3.8681,  3.8681,  3.8681,\n",
       "          3.8681,  3.8681],\n",
       "        [ 8.5170,  8.5170,  8.5170,  8.5170,  8.5170,  8.5170,  8.5170,  8.5170,\n",
       "          8.5170,  8.5170],\n",
       "        [ 0.7635,  0.7635,  0.7635,  0.7635,  0.7635,  0.7635,  0.7635,  0.7635,\n",
       "          0.7635,  0.7635],\n",
       "        [-3.8339, -3.8339, -3.8339, -3.8339, -3.8339, -3.8339, -3.8339, -3.8339,\n",
       "         -3.8339, -3.8339]])"
      ]
     },
     "execution_count": 100,
     "metadata": {},
     "output_type": "execute_result"
    }
   ],
   "source": [
    "# %timeit -n 10 _=matmulMe(ccc,ddd)\n",
    "# matmulMe(ccc,ddd)\n",
    "%timeit -n 10 _=matmulMe(m1,m2)\n",
    "matmulMe(m1,m2)"
   ]
  },
  {
   "cell_type": "code",
   "execution_count": 101,
   "metadata": {},
   "outputs": [],
   "source": [
    "def matmul(a,b): #above matmulMe with line c[i] replaced\n",
    "    ar,ac = a.shape\n",
    "    br,bc = b.shape\n",
    "    assert ac == br\n",
    "    c = torch.zeros(ar,bc)\n",
    "    for i in range(ar):\n",
    "#         for k in range(bc): # only 1 for loop\n",
    "            c[i] = (a[i].unsqueeze(-1) * b).sum(dim=0)\n",
    "    return c"
   ]
  },
  {
   "cell_type": "code",
   "execution_count": 102,
   "metadata": {},
   "outputs": [
    {
     "name": "stdout",
     "output_type": "stream",
     "text": [
      "270 µs ± 15.8 µs per loop (mean ± std. dev. of 7 runs, 10 loops each)\n"
     ]
    },
    {
     "data": {
      "text/plain": [
       "tensor([[  0.5861,   1.5217,  -1.4350, -16.1589,  -4.0420,   4.2698,  -8.1926,\n",
       "          -4.3305,  17.7720,   3.0766],\n",
       "        [  1.4475,   7.4871,  12.4014, -14.9780,   0.5130,   4.0071,   1.6018,\n",
       "          -7.7049,  20.1072,   3.8681],\n",
       "        [  5.9346,   8.7759,  12.9948,   9.2858,   5.8667,  10.6228,  -3.6368,\n",
       "           2.2924,   2.1422,   8.5170],\n",
       "        [ -7.8197,   5.2653,  11.7315,  -9.9631,  12.9853,  13.7505,  -7.4121,\n",
       "          -3.4885,  -6.4984,   0.7635],\n",
       "        [  0.6003,  -3.5564,  10.1518,   4.2983,  -2.1999,   7.7840, -11.1944,\n",
       "         -15.3879,   0.0524,  -3.8339]])"
      ]
     },
     "execution_count": 102,
     "metadata": {},
     "output_type": "execute_result"
    }
   ],
   "source": [
    "# %timeit -n 10 _=matmul(ccc,ddd)\n",
    "# matmul(ccc,ddd)\n",
    "%timeit -n 10 _=matmul(m1,m2)\n",
    "matmul(m1,m2)"
   ]
  },
  {
   "cell_type": "code",
   "execution_count": 127,
   "metadata": {},
   "outputs": [],
   "source": [
    "def matmul(a,b,doPrint=False): #jeremy's copied from notebook\n",
    "    ar,ac = a.shape\n",
    "    br,bc = b.shape\n",
    "    assert ac==br\n",
    "    c = torch.zeros(ar, bc)\n",
    "    for i in range(ar):\n",
    "        if(doPrint):\n",
    "            print('----------')\n",
    "            print(a[i])\n",
    "            print(a[i].unsqueeze(-1)) # a[i][:,None]\n",
    "            print(b)\n",
    "            print(a[i].unsqueeze(-1) * b)\n",
    "#       c[i,j] = (a[i,:]          * b[:,j]).sum() # previous\n",
    "        c[i]   = (a[i].unsqueeze(-1) * b).sum(dim=0)\n",
    "#     print(c)\n",
    "    return c"
   ]
  },
  {
   "cell_type": "code",
   "execution_count": 134,
   "metadata": {},
   "outputs": [
    {
     "name": "stdout",
     "output_type": "stream",
     "text": [
      "----------\n",
      "tensor([5, 3])\n",
      "tensor([[5],\n",
      "        [3]])\n",
      "tensor([[2],\n",
      "        [4]])\n",
      "tensor([[10],\n",
      "        [12]])\n"
     ]
    },
    {
     "data": {
      "text/plain": [
       "tensor([[22.]])"
      ]
     },
     "execution_count": 134,
     "metadata": {},
     "output_type": "execute_result"
    }
   ],
   "source": [
    "# %timeit -n 10 _=matmul(ccc,ddd)\n",
    "# ----------\n",
    "# tensor([5, 3])\n",
    "# tensor([[5],\n",
    "#         [3]])\n",
    "# tensor([[2],\n",
    "#         [4]])\n",
    "# tensor([[10],\n",
    "#         [12]])\n",
    "matmul(ccc,ddd,True)            # tensor([[22.]])\n",
    "# matmul(ccc,ddd,True).sum()      # tensor(22.)\n",
    "# matmul(ccc,ddd,True).sum(dim=0) # tensor([22.])\n",
    "# matmul(ccc,ddd,True).sum(dim=1)   # tensor([22.])\n",
    "# %timeit -n 10 _=matmul(m1,m2)\n",
    "# matmul(m1,m2)"
   ]
  },
  {
   "cell_type": "code",
   "execution_count": null,
   "metadata": {},
   "outputs": [],
   "source": [
    "c[i,j] += a[i,k]*b[k,j]  # orig\n",
    "a[i,k]*b[k,j] += c[i,j]  # reverse so form is a@b=c\n",
    "a[i,k]*b[k,j] -> c[i,j]  # change = to ->\n",
    "[i,k]*[k,j] -> [i,j],a,b # remove a,b from left side & change to params\n",
    "i,k*k,j -> i,j,a,b       # remove [] of each matrix\n",
    "ik*kj -> ij,a,b          # remove , from each matrix\n",
    "ik,kj -> ij,a,b          # change * to , to separate input matrix params\n",
    "'ik,kj->ij',a,b          # put 'eqn' inside single quotes\n",
    "\n",
    "einsum('ik,kj->ij',a,b)  # einsum notation"
   ]
  },
  {
   "cell_type": "code",
   "execution_count": null,
   "metadata": {},
   "outputs": [],
   "source": [
    "c[i,j] += a[i,k]*b[k,j]\n",
    "'ik,kj->ij',a,b"
   ]
  },
  {
   "cell_type": "code",
   "execution_count": 140,
   "metadata": {},
   "outputs": [],
   "source": [
    "def matmul(a,b): return torch.einsum('ik,kj->ij',a,b) # why do we have to define the string and parameters?\n",
    "# why not just einsum(a,b)?"
   ]
  },
  {
   "cell_type": "code",
   "execution_count": 142,
   "metadata": {},
   "outputs": [
    {
     "data": {
      "text/plain": [
       "tensor([[22]])"
      ]
     },
     "execution_count": 142,
     "metadata": {},
     "output_type": "execute_result"
    }
   ],
   "source": [
    "matmul(ccc,ddd)"
   ]
  },
  {
   "cell_type": "code",
   "execution_count": 143,
   "metadata": {},
   "outputs": [
    {
     "name": "stdout",
     "output_type": "stream",
     "text": [
      "41 µs ± 15.3 µs per loop (mean ± std. dev. of 7 runs, 10 loops each)\n"
     ]
    }
   ],
   "source": [
    "%timeit -n 10 _=matmul(m1, m2)"
   ]
  },
  {
   "cell_type": "code",
   "execution_count": 145,
   "metadata": {},
   "outputs": [
    {
     "name": "stdout",
     "output_type": "stream",
     "text": [
      "7.67 µs ± 5.47 µs per loop (mean ± std. dev. of 7 runs, 10 loops each)\n"
     ]
    }
   ],
   "source": [
    "# We can use pytorch's function or operator directly for matrix multiplication.\n",
    "%timeit -n 10 t2 = m1.matmul(m2)"
   ]
  },
  {
   "cell_type": "code",
   "execution_count": 146,
   "metadata": {},
   "outputs": [
    {
     "name": "stdout",
     "output_type": "stream",
     "text": [
      "7.52 µs ± 5.31 µs per loop (mean ± std. dev. of 7 runs, 10 loops each)\n"
     ]
    }
   ],
   "source": [
    "%timeit -n 10 t2 = m1@m2"
   ]
  },
  {
   "cell_type": "code",
   "execution_count": null,
   "metadata": {},
   "outputs": [],
   "source": []
  }
 ],
 "metadata": {
  "kernelspec": {
   "display_name": "Python 3",
   "language": "python",
   "name": "python3"
  },
  "language_info": {
   "codemirror_mode": {
    "name": "ipython",
    "version": 3
   },
   "file_extension": ".py",
   "mimetype": "text/x-python",
   "name": "python",
   "nbconvert_exporter": "python",
   "pygments_lexer": "ipython3",
   "version": "3.7.4"
  }
 },
 "nbformat": 4,
 "nbformat_minor": 2
}
