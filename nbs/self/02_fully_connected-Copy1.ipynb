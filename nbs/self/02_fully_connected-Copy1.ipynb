{
 "cells": [
  {
   "cell_type": "code",
   "execution_count": 1,
   "metadata": {},
   "outputs": [],
   "source": [
    "%load_ext autoreload\n",
    "%autoreload 2\n",
    "\n",
    "%matplotlib inline"
   ]
  },
  {
   "cell_type": "code",
   "execution_count": 7,
   "metadata": {},
   "outputs": [
    {
     "name": "stdout",
     "output_type": "stream",
     "text": [
      "Python 3.7.4\n"
     ]
    }
   ],
   "source": [
    "!python --version"
   ]
  },
  {
   "cell_type": "code",
   "execution_count": 9,
   "metadata": {},
   "outputs": [],
   "source": [
    "# pip install jupyter_contrib_nbextensions\n",
    "# jupyter contrib nbextension install --user\n",
    "# jupyter nbextension enable codefolding/main\n",
    "# ipython profile create # <profile name> blank for default\n",
    "\n",
    "%config IPCompleter.greedy=True"
   ]
  },
  {
   "cell_type": "code",
   "execution_count": 22,
   "metadata": {},
   "outputs": [
    {
     "name": "stdout",
     "output_type": "stream",
     "text": [
      "D:\\Repos\\Fast AI\\fast-ai-course-v3\\nbs\\self\n"
     ]
    }
   ],
   "source": [
    "import os,sys,inspect\n",
    "from sys import path\n",
    "currentdir = os.path.dirname(os.path.abspath(inspect.getfile(inspect.currentframe())))\n",
    "parentdir = os.path.dirname(currentdir)\n",
    "\n",
    "print(currentdir)"
   ]
  },
  {
   "cell_type": "code",
   "execution_count": null,
   "metadata": {},
   "outputs": [],
   "source": []
  },
  {
   "cell_type": "code",
   "execution_count": 72,
   "metadata": {},
   "outputs": [
    {
     "name": "stdout",
     "output_type": "stream",
     "text": [
      "D:\\Repos\\Fast AI\\fast-ai-course-v3\\nbs\\self\n",
      "43 38\n",
      "D:\\Repos\\Fast AI\\fast-ai-course-v3\\nbs\n"
     ]
    }
   ],
   "source": [
    "# from ..dl2.exp.nb_01 import * # ValueError: attempted relative import beyond top-level package\n",
    "# print(dir(path[0]))\n",
    "# print(path) \n",
    "# ['D:\\\\Repos\\\\Fast AI\\\\fast-ai-course-v3\\\\nbs\\\\self', \n",
    "# 'C:\\\\Users\\\\bitte\\\\.conda\\\\envs\\\\fastai\\\\python37.zip', \n",
    "# 'C:\\\\Users\\\\bitte\\\\.conda\\\\envs\\\\fastai\\\\DLLs', \n",
    "# 'C:\\\\Users\\\\bitte\\\\.conda\\\\envs\\\\fastai\\\\lib', \n",
    "# 'C:\\\\Users\\\\bitte\\\\.conda\\\\envs\\\\fastai', \n",
    "# '', \n",
    "# 'C:\\\\Users\\\\bitte\\\\.conda\\\\envs\\\\fastai\\\\lib\\\\site-packages', \n",
    "# 'C:\\\\Users\\\\bitte\\\\.conda\\\\envs\\\\fastai\\\\lib\\\\site-packages\\\\IPython\\\\extensions',\n",
    "# 'C:\\\\Users\\\\bitte\\\\.ipython']\n",
    "dir = path[0]\n",
    "print(dir)\n",
    "print(len(dir), len(dir)-len('\\self')) # 43\n",
    "print(dir[0:len(dir)-len('\\self')])\n",
    "dirNbs = dir[0:len(dir)-len('\\self')]"
   ]
  },
  {
   "cell_type": "code",
   "execution_count": 98,
   "metadata": {},
   "outputs": [
    {
     "name": "stdout",
     "output_type": "stream",
     "text": [
      "D:\\Repos\\Fast AI\\fast-ai-course-v3\\nbs\n",
      "D:\\Repos\\Fast AI\\fast-ai-course-v3\\nbs/dl2/exp/nb_01.py\n",
      "D:\\Repos\\Fast AI\\fast-ai-course-v3\\nbs\\dl2\\exp\\nb_01.py\n"
     ]
    }
   ],
   "source": [
    "from pathlib import Path\n",
    "dirNbs = dir[0:len(dir)-len('\\self')]\n",
    "dirExpNb01 = dirNbs + '/dl2/exp/nb_01.py'\n",
    "print(dirNbs)\n",
    "print(dirExpNb01)\n",
    "newPath = Path(dirExpNb01)\n",
    "print(newPath)\n",
    "# from newPath import nb_01"
   ]
  },
  {
   "cell_type": "code",
   "execution_count": 104,
   "metadata": {},
   "outputs": [
    {
     "name": "stdout",
     "output_type": "stream",
     "text": [
      "<module 'nb_01' from 'D:\\\\Repos\\\\Fast AI\\\\fast-ai-course-v3\\\\nbs\\\\dl2\\\\exp\\\\nb_01.py'> is a module\n",
      "<built-in function dir>\n",
      "newpath D:\\Repos\\Fast AI\\fast-ai-course-v3\\nbs\\dl2\\exp\\nb_00.py\n",
      "type spec <class '_frozen_importlib.ModuleSpec'>\n",
      "type foo00 <class 'module'>\n",
      "test\n",
      "<module 'nb_00' from 'D:\\\\Repos\\\\Fast AI\\\\fast-ai-course-v3\\\\nbs\\\\dl2\\\\exp\\\\nb_00.py'>\n",
      "<class 'int'>\n",
      "<module 'nb_00' from 'D:\\\\Repos\\\\Fast AI\\\\fast-ai-course-v3\\\\nbs\\\\dl2\\\\exp\\\\nb_00.py'> is a module\n"
     ]
    },
    {
     "ename": "ModuleNotFoundError",
     "evalue": "No module named 'foo00'",
     "output_type": "error",
     "traceback": [
      "\u001b[1;31m---------------------------------------------------------------------------\u001b[0m",
      "\u001b[1;31mModuleNotFoundError\u001b[0m                       Traceback (most recent call last)",
      "\u001b[1;32m<ipython-input-104-f26caeb4699f>\u001b[0m in \u001b[0;36m<module>\u001b[1;34m\u001b[0m\n\u001b[0;32m      8\u001b[0m      \u001b[0mprint\u001b[0m\u001b[1;33m(\u001b[0m\u001b[0mrepr\u001b[0m\u001b[1;33m(\u001b[0m\u001b[0mfoo\u001b[0m\u001b[1;33m)\u001b[0m\u001b[1;33m,\u001b[0m \u001b[1;34m\"is a module\"\u001b[0m\u001b[1;33m)\u001b[0m\u001b[1;33m\u001b[0m\u001b[1;33m\u001b[0m\u001b[0m\n\u001b[0;32m      9\u001b[0m \u001b[1;33m\u001b[0m\u001b[0m\n\u001b[1;32m---> 10\u001b[1;33m \u001b[0mspec\u001b[0m\u001b[1;33m.\u001b[0m\u001b[0mloader\u001b[0m\u001b[1;33m.\u001b[0m\u001b[0mexec_module\u001b[0m\u001b[1;33m(\u001b[0m\u001b[0mfoo\u001b[0m\u001b[1;33m)\u001b[0m\u001b[1;33m\u001b[0m\u001b[1;33m\u001b[0m\u001b[0m\n\u001b[0m\u001b[0;32m     11\u001b[0m \u001b[0mprint\u001b[0m\u001b[1;33m(\u001b[0m\u001b[1;34m'foo'\u001b[0m\u001b[1;33m,\u001b[0m\u001b[0mfoo\u001b[0m\u001b[1;33m.\u001b[0m\u001b[0mMNIST_URL\u001b[0m\u001b[1;33m)\u001b[0m\u001b[1;33m\u001b[0m\u001b[1;33m\u001b[0m\u001b[0m\n",
      "\u001b[1;32m~\\.conda\\envs\\fastai\\lib\\importlib\\_bootstrap_external.py\u001b[0m in \u001b[0;36mexec_module\u001b[1;34m(self, module)\u001b[0m\n",
      "\u001b[1;32m~\\.conda\\envs\\fastai\\lib\\importlib\\_bootstrap.py\u001b[0m in \u001b[0;36m_call_with_frames_removed\u001b[1;34m(f, *args, **kwds)\u001b[0m\n",
      "\u001b[1;32mD:\\Repos\\Fast AI\\fast-ai-course-v3\\nbs\\dl2\\exp\\nb_01.py\u001b[0m in \u001b[0;36m<module>\u001b[1;34m\u001b[0m\n\u001b[0;32m     32\u001b[0m \u001b[1;31m# from exp.nb_00 import *\u001b[0m\u001b[1;33m\u001b[0m\u001b[1;33m\u001b[0m\u001b[1;33m\u001b[0m\u001b[0m\n\u001b[0;32m     33\u001b[0m \u001b[1;31m# from foo00.nb_00 import * # No module named 'foo00'\u001b[0m\u001b[1;33m\u001b[0m\u001b[1;33m\u001b[0m\u001b[1;33m\u001b[0m\u001b[0m\n\u001b[1;32m---> 34\u001b[1;33m \u001b[1;32mimport\u001b[0m \u001b[0mfoo00\u001b[0m \u001b[1;31m# ModuleNotFoundError: No module named 'foo00'\u001b[0m\u001b[1;33m\u001b[0m\u001b[1;33m\u001b[0m\u001b[0m\n\u001b[0m\u001b[0;32m     35\u001b[0m \u001b[1;32mimport\u001b[0m \u001b[0moperator\u001b[0m\u001b[1;33m\u001b[0m\u001b[1;33m\u001b[0m\u001b[0m\n\u001b[0;32m     36\u001b[0m \u001b[1;33m\u001b[0m\u001b[0m\n",
      "\u001b[1;31mModuleNotFoundError\u001b[0m: No module named 'foo00'"
     ]
    }
   ],
   "source": [
    "import importlib.util, types\n",
    "spec = importlib.util.spec_from_file_location(\"nb_01\", newPath)\n",
    "type(spec)\n",
    "foo = importlib.util.module_from_spec(spec)\n",
    "\n",
    "if isinstance(foo, types.ModuleType):\n",
    "    # <module 'nb_00' from 'D:\\\\Repos\\\\Fast AI\\\\fast-ai-course-v3\\\\nbs\\\\dl2\\\\exp\\\\nb_00.py'> is a module\n",
    "     print(repr(foo), \"is a module\")\n",
    "\n",
    "spec.loader.exec_module(foo)\n",
    "print('foo',foo.MNIST_URL)"
   ]
  },
  {
   "cell_type": "markdown",
   "metadata": {},
   "source": [
    "## The forward and backward passes"
   ]
  },
  {
   "cell_type": "markdown",
   "metadata": {},
   "source": [
    "[Jump_to lesson 8 video](https://course.fast.ai/videos/?lesson=8&t=4960)"
   ]
  },
  {
   "cell_type": "code",
   "execution_count": null,
   "metadata": {},
   "outputs": [],
   "source": [
    "#export\n",
    "from exp.nb_01 import *\n",
    "\n",
    "def get_data():\n",
    "    path = datasets.download_data)"
   ]
  },
  {
   "cell_type": "markdown",
   "metadata": {},
   "source": [
    "## Foundations version"
   ]
  },
  {
   "cell_type": "markdown",
   "metadata": {},
   "source": [
    "### Basic architecture"
   ]
  },
  {
   "cell_type": "markdown",
   "metadata": {},
   "source": [
    "[Jump_to lesson 8 video](https://course.fast.ai/videos/?lesson=8&t=5128)"
   ]
  },
  {
   "cell_type": "markdown",
   "metadata": {},
   "source": [
    "### Loss function: MSE"
   ]
  },
  {
   "cell_type": "markdown",
   "metadata": {},
   "source": [
    "[Jump_to lesson 8 video](https://course.fast.ai/videos/?lesson=8&t=6372)"
   ]
  },
  {
   "cell_type": "markdown",
   "metadata": {},
   "source": [
    "### Gradients and backward pass"
   ]
  },
  {
   "cell_type": "markdown",
   "metadata": {},
   "source": [
    "[Jump_to lesson 8 video](https://course.fast.ai/videos/?lesson=8&t=6493)"
   ]
  },
  {
   "cell_type": "markdown",
   "metadata": {},
   "source": [
    "## Refactor model"
   ]
  },
  {
   "cell_type": "markdown",
   "metadata": {},
   "source": [
    "### Layers as classes"
   ]
  },
  {
   "cell_type": "markdown",
   "metadata": {},
   "source": [
    "[Jump_to lesson 8 video](https://course.fast.ai/videos/?lesson=8&t=7112)"
   ]
  },
  {
   "cell_type": "markdown",
   "metadata": {},
   "source": [
    "### Module.forward()"
   ]
  },
  {
   "cell_type": "markdown",
   "metadata": {},
   "source": [
    "### Without einsum"
   ]
  },
  {
   "cell_type": "markdown",
   "metadata": {},
   "source": [
    "[Jump_to lesson 8 video](https://course.fast.ai/videos/?lesson=8&t=7484)"
   ]
  },
  {
   "cell_type": "markdown",
   "metadata": {},
   "source": [
    "### nn.Linear and nn.Module"
   ]
  },
  {
   "cell_type": "markdown",
   "metadata": {},
   "source": [
    "## Export"
   ]
  }
 ],
 "metadata": {
  "kernelspec": {
   "display_name": "Python 3",
   "language": "python",
   "name": "python3"
  },
  "language_info": {
   "codemirror_mode": {
    "name": "ipython",
    "version": 3
   },
   "file_extension": ".py",
   "mimetype": "text/x-python",
   "name": "python",
   "nbconvert_exporter": "python",
   "pygments_lexer": "ipython3",
   "version": "3.7.4"
  }
 },
 "nbformat": 4,
 "nbformat_minor": 2
}
